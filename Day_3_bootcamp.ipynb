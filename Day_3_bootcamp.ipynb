{
  "nbformat": 4,
  "nbformat_minor": 0,
  "metadata": {
    "colab": {
      "provenance": [],
      "authorship_tag": "ABX9TyNM4E1m8YvUb5VtzJaxlALY",
      "include_colab_link": true
    },
    "kernelspec": {
      "name": "python3",
      "display_name": "Python 3"
    },
    "language_info": {
      "name": "python"
    }
  },
  "cells": [
    {
      "cell_type": "markdown",
      "metadata": {
        "id": "view-in-github",
        "colab_type": "text"
      },
      "source": [
        "<a href=\"https://colab.research.google.com/github/Rohith18744/2216179_AIML_Bootcamp_2023/blob/main/Day_3_bootcamp.ipynb\" target=\"_parent\"><img src=\"https://colab.research.google.com/assets/colab-badge.svg\" alt=\"Open In Colab\"/></a>"
      ]
    },
    {
      "cell_type": "code",
      "execution_count": 2,
      "metadata": {
        "colab": {
          "base_uri": "https://localhost:8080/"
        },
        "id": "yEkIgSIwkgIg",
        "outputId": "404d5eb5-376a-44f8-fbf9-1ad3fd4c00f6"
      },
      "outputs": [
        {
          "output_type": "stream",
          "name": "stdout",
          "text": [
            "5\n",
            "1\n",
            "4\n",
            "1\n",
            "4\n"
          ]
        }
      ],
      "source": [
        "#tuples\n",
        "my_tup=(1,2,3,4)\n",
        "my_tup1=(\"h1\",1,1,5)\n",
        "\n",
        "N_tup=(\"HELLO\",my_tup,my_tup1)\n",
        "\n",
        "print(N_tup[-1][-1])\n",
        "\n",
        "#tuple methods\n",
        "\n",
        "\n",
        "print(my_tup.index(2))\n",
        "print(max(my_tup))\n",
        "print(min(my_tup))\n",
        "print(len(my_tup))"
      ]
    },
    {
      "cell_type": "code",
      "source": [
        "#sets\n",
        "my_set={1,2,3,4}\n",
        "my_set1={1,2,0,\"hi\"}\n",
        "l=[1,3,5,7]\n",
        "print(l)\n",
        "my_set2=set(l)\n",
        "print(my_set2)\n",
        "\n",
        "my_set.add(5)\n",
        "print(my_set)\n",
        "\n",
        "my_set.update([5,6,7,8,9])\n",
        "print(my_set)\n",
        "\n",
        "my_set.discard(3)\n",
        "print(my_set)\n",
        "\n",
        "my_set.remove(4)\n",
        "print(my_set)\n",
        "\n",
        "#set operations\n",
        "\n",
        "a={1,2,3,4}\n",
        "b={5,6,7,8}\n",
        "\n",
        "#union\n",
        "print(a|b)\n",
        "print(a.union(b))\n",
        "print(b.union(a))\n",
        "\n",
        "#intersection\n",
        "print(a&b)\n",
        "print(a.intersection(b))\n",
        "print(b.intersection(a))\n",
        "\n",
        "#difference\n",
        "print(a-b)\n",
        "print(a.difference(b))\n",
        "print(b-a)\n",
        "print(b.difference(a))"
      ],
      "metadata": {
        "colab": {
          "base_uri": "https://localhost:8080/"
        },
        "id": "EojSmSqqoL_B",
        "outputId": "428c4fd4-139b-4f51-b916-400092519daf"
      },
      "execution_count": 8,
      "outputs": [
        {
          "output_type": "stream",
          "name": "stdout",
          "text": [
            "[1, 3, 5, 7]\n",
            "{1, 3, 5, 7}\n",
            "{1, 2, 3, 4, 5}\n",
            "{1, 2, 3, 4, 5, 6, 7, 8, 9}\n",
            "{1, 2, 4, 5, 6, 7, 8, 9}\n",
            "{1, 2, 5, 6, 7, 8, 9}\n",
            "{1, 2, 3, 4, 5, 6, 7, 8}\n",
            "{1, 2, 3, 4, 5, 6, 7, 8}\n",
            "{1, 2, 3, 4, 5, 6, 7, 8}\n",
            "set()\n",
            "set()\n",
            "set()\n",
            "{1, 2, 3, 4}\n",
            "{1, 2, 3, 4}\n",
            "{8, 5, 6, 7}\n",
            "{8, 5, 6, 7}\n"
          ]
        }
      ]
    },
    {
      "cell_type": "code",
      "source": [
        "#dictionaries\n",
        "my_dict={'name':'microsoft',102:'english'}\n",
        "print(my_dict['name'])\n",
        "print(my_dict.keys())\n",
        "print(my_dict.values())\n",
        "print(my_dict.get(\"name\"))"
      ],
      "metadata": {
        "colab": {
          "base_uri": "https://localhost:8080/"
        },
        "id": "P0a384rOqlBF",
        "outputId": "4bd95ff0-2b46-4cde-ba4b-f3a755b6b0e6"
      },
      "execution_count": 11,
      "outputs": [
        {
          "output_type": "stream",
          "name": "stdout",
          "text": [
            "microsoft\n",
            "dict_keys(['name', 102])\n",
            "dict_values(['microsoft', 'english'])\n",
            "microsoft\n"
          ]
        }
      ]
    }
  ]
}