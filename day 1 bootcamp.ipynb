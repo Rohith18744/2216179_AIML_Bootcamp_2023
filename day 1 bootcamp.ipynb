{
 "cells": [
  {
   "cell_type": "code",
   "execution_count": 1,
   "id": "c31dede7",
   "metadata": {},
   "outputs": [
    {
     "name": "stdout",
     "output_type": "stream",
     "text": [
      "100 100.0 hi rohit\n",
      "20.0\n",
      "5.0\n"
     ]
    }
   ],
   "source": [
    "#variables \n",
    "a=100 #int\n",
    "amount=100.00 #float\n",
    "str1=\"hi\"\n",
    "str2=\"rohit\"\n",
    "'''this is a docstring'''\n",
    "comp=20+5j #complex\n",
    "print(a,amount,str1,str2)\n",
    "print(comp.real)\n",
    "print(comp.imag)"
   ]
  },
  {
   "cell_type": "code",
   "execution_count": 2,
   "id": "ab67c844",
   "metadata": {},
   "outputs": [
    {
     "ename": "NameError",
     "evalue": "name 'i' is not defined",
     "output_type": "error",
     "traceback": [
      "\u001b[1;31m---------------------------------------------------------------------------\u001b[0m",
      "\u001b[1;31mNameError\u001b[0m                                 Traceback (most recent call last)",
      "Input \u001b[1;32mIn [2]\u001b[0m, in \u001b[0;36m<cell line: 5>\u001b[1;34m()\u001b[0m\n\u001b[0;32m      1\u001b[0m \u001b[38;5;66;03m#datatypes\u001b[39;00m\n\u001b[0;32m      2\u001b[0m \n\u001b[0;32m      3\u001b[0m \u001b[38;5;66;03m#integer type\u001b[39;00m\n\u001b[0;32m      4\u001b[0m a\u001b[38;5;241m=\u001b[39m\u001b[38;5;241m100\u001b[39m\n\u001b[1;32m----> 5\u001b[0m b\u001b[38;5;241m=\u001b[39m\u001b[43mi\u001b[49m\u001b[38;5;241m+\u001b[39m\u001b[38;5;241m2\u001b[39mj\n\u001b[0;32m      7\u001b[0m \u001b[38;5;66;03m#float type\u001b[39;00m\n\u001b[0;32m      8\u001b[0m amount\u001b[38;5;241m=\u001b[39m\u001b[38;5;241m200.00\u001b[39m\n",
      "\u001b[1;31mNameError\u001b[0m: name 'i' is not defined"
     ]
    }
   ],
   "source": [
    "#datatypes\n",
    "\n",
    "#integer type\n",
    "a=100\n",
    "b=i+2j\n",
    "\n",
    "#float type\n",
    "amount=200.00\n",
    "\n",
    "#text type\n",
    "str1=\"hi\"\n",
    "\n",
    "#sequence type\n",
    "li=[1,2,3,4]\n",
    "tup=(1,2,3,4)\n",
    "\n",
    "#set type\n",
    "set1={1,2,3,4}\n",
    "\n",
    "#mapping type\n",
    "my_dict={\"apple\":\"red\"}\n",
    "\n",
    "#none type\n",
    "x=None\n",
    "\n",
    "#Binary type\n",
    "x=b\"Hello\" #type\n",
    "x=bytearray(5) #bytearray\n",
    "x=memoryview(bytes(4)) #memory view "
   ]
  },
  {
   "cell_type": "code",
   "execution_count": null,
   "id": "d473c4de",
   "metadata": {},
   "outputs": [],
   "source": []
  },
  {
   "cell_type": "code",
   "execution_count": 3,
   "id": "e94c5342",
   "metadata": {},
   "outputs": [
    {
     "name": "stdout",
     "output_type": "stream",
     "text": [
      "3 2.0\n",
      "7.0\n"
     ]
    }
   ],
   "source": [
    "#type casting or type conversion\n",
    "\n",
    "#explicit conversion\n",
    "b=2\n",
    "c=3.0\n",
    "d=int(c)\n",
    "e=float(b)\n",
    "\n",
    "print(d,e)\n",
    "\n",
    "#implicit conversion\n",
    "f=3\n",
    "g=4.0\n",
    "h=print(f+g)\n",
    "\n",
    "i=3\n",
    "s1=str(i)\n"
   ]
  },
  {
   "cell_type": "code",
   "execution_count": null,
   "id": "e7aab2c8",
   "metadata": {},
   "outputs": [],
   "source": []
  }
 ],
 "metadata": {
  "kernelspec": {
   "display_name": "Python 3 (ipykernel)",
   "language": "python",
   "name": "python3"
  },
  "language_info": {
   "codemirror_mode": {
    "name": "ipython",
    "version": 3
   },
   "file_extension": ".py",
   "mimetype": "text/x-python",
   "name": "python",
   "nbconvert_exporter": "python",
   "pygments_lexer": "ipython3",
   "version": "3.9.12"
  }
 },
 "nbformat": 4,
 "nbformat_minor": 5
}
