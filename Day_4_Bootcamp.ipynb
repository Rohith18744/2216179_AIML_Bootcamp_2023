{
  "nbformat": 4,
  "nbformat_minor": 0,
  "metadata": {
    "colab": {
      "provenance": [],
      "authorship_tag": "ABX9TyPRv/P2sfeOn7w8OZ8nMid5",
      "include_colab_link": true
    },
    "kernelspec": {
      "name": "python3",
      "display_name": "Python 3"
    },
    "language_info": {
      "name": "python"
    }
  },
  "cells": [
    {
      "cell_type": "markdown",
      "metadata": {
        "id": "view-in-github",
        "colab_type": "text"
      },
      "source": [
        "<a href=\"https://colab.research.google.com/github/Rohith18744/2216179_AIML_Bootcamp_2023/blob/main/Day_4_Bootcamp.ipynb\" target=\"_parent\"><img src=\"https://colab.research.google.com/assets/colab-badge.svg\" alt=\"Open In Colab\"/></a>"
      ]
    },
    {
      "cell_type": "code",
      "execution_count": 1,
      "metadata": {
        "colab": {
          "base_uri": "https://localhost:8080/"
        },
        "id": "e_OGxjQ_1MRv",
        "outputId": "0d34f575-5369-4e5c-cb92-a9beefd4550a"
      },
      "outputs": [
        {
          "output_type": "stream",
          "name": "stdout",
          "text": [
            "true\n",
            "100\n"
          ]
        }
      ],
      "source": [
        "#decision making\n",
        "\n",
        "#if statement\n",
        "var=100\n",
        "if var>0:\n",
        "  print(\"true\")\n",
        "  print(var)"
      ]
    },
    {
      "cell_type": "code",
      "source": [
        "#if -- else statement\n",
        "\n",
        "\n",
        "var=-1\n",
        "if var>0:\n",
        "  print(\"true\")\n",
        "else:\n",
        "  print(\"false\")\n",
        "\n",
        "#nested if statements\n",
        "age=int(input(\"Enter age\"))\n",
        "if age>0: \n",
        "    if age>0 and age<=2:\n",
        "       print(\"free ticket\")\n",
        "    elif age>2 and age<15:\n",
        "       print(\"half ticket\")\n",
        "    elif age>=15 and age<60:\n",
        "       print(\"full ticket\")\n",
        "    elif age>=60:\n",
        "       print(\"discounted ticket\")\n"
      ],
      "metadata": {
        "colab": {
          "base_uri": "https://localhost:8080/"
        },
        "id": "tqK_Jhtv59JW",
        "outputId": "ef318d67-20f4-49ba-e721-58cbaf6679e3"
      },
      "execution_count": 10,
      "outputs": [
        {
          "output_type": "stream",
          "name": "stdout",
          "text": [
            "false\n",
            "Enter age6\n",
            "half ticket\n"
          ]
        }
      ]
    },
    {
      "cell_type": "code",
      "source": [
        "#loops\n",
        "numbers=[1,2,3,4,5,6,7,8,9]\n",
        "for i in range(1,11):\n",
        "  print(i)\n",
        "sum=0\n",
        "for val in numbers:\n",
        "  sum=sum+val\n",
        "print(\"the sum is\",sum)\n",
        "\n",
        "for i in range(1,11,2):\n",
        "  print(i)"
      ],
      "metadata": {
        "colab": {
          "base_uri": "https://localhost:8080/"
        },
        "id": "21cWo7AX8LUG",
        "outputId": "eb5a0c47-3347-4747-ed5d-0ca9264778f3"
      },
      "execution_count": 12,
      "outputs": [
        {
          "output_type": "stream",
          "name": "stdout",
          "text": [
            "1\n",
            "2\n",
            "3\n",
            "4\n",
            "5\n",
            "6\n",
            "7\n",
            "8\n",
            "9\n",
            "10\n",
            "the sum is 45\n",
            "1\n",
            "3\n",
            "5\n",
            "7\n",
            "9\n"
          ]
        }
      ]
    },
    {
      "cell_type": "code",
      "source": [
        "#while loop\n",
        "count=1\n",
        "while(count<11):\n",
        "  print(count)\n",
        "  count=count+1"
      ],
      "metadata": {
        "colab": {
          "base_uri": "https://localhost:8080/"
        },
        "id": "I81D4BeP9CH0",
        "outputId": "6f24c608-0d83-4c64-9216-2559c6a651f9"
      },
      "execution_count": 13,
      "outputs": [
        {
          "output_type": "stream",
          "name": "stdout",
          "text": [
            "1\n",
            "2\n",
            "3\n",
            "4\n",
            "5\n",
            "6\n",
            "7\n",
            "8\n",
            "9\n",
            "10\n"
          ]
        }
      ]
    },
    {
      "cell_type": "code",
      "source": [
        "#nested loop\n",
        "\n",
        "#nested for\n",
        "x=[[12,7,3],[4,5,6],[7,8,6]]\n",
        "y=[[5,8,1],\n",
        "   [1,1,0],\n",
        "   [5,3,0]]\n",
        "res=[[0,0,0],[0,0,0],[0,0,0]]\n",
        "\n",
        "for i in range(len(x)):\n",
        "  for j in range(len(x[0])):\n",
        "    res[i][j]=x[i][j]+y[i][j]\n",
        "for r in res:\n",
        "  print(r)\n",
        "\n",
        "\n"
      ],
      "metadata": {
        "colab": {
          "base_uri": "https://localhost:8080/"
        },
        "id": "ti_u1kbE9o9i",
        "outputId": "3e4e4c2b-a75a-4711-db3c-301830715b7b"
      },
      "execution_count": 15,
      "outputs": [
        {
          "output_type": "stream",
          "name": "stdout",
          "text": [
            "[17, 15, 4]\n",
            "[5, 6, 6]\n",
            "[12, 11, 6]\n"
          ]
        }
      ]
    },
    {
      "cell_type": "code",
      "source": [
        "#nested while loop\n",
        "num=int(input(\"enter until which table you need\"))\n",
        "i=1\n",
        "while(i<=num):\n",
        "  print(f\"table {i}\")\n",
        "  j=1\n",
        "  while(j<=10):\n",
        "    print(f\"{i}*{j}={i*j}\")\n",
        "    j=j+1\n",
        "  print(\"---------------\")\n",
        "  i=i+1\n"
      ],
      "metadata": {
        "id": "oD0Xmtpe_ABA"
      },
      "execution_count": null,
      "outputs": []
    },
    {
      "cell_type": "code",
      "source": [
        "#functions\n",
        "\n",
        "def greet(name):\n",
        "  '''this function greets a person'''\n",
        "  print(\"HELLO \\t \"+name+ \"\\t good morning\")\n",
        "greet(\"rohith\")"
      ],
      "metadata": {
        "colab": {
          "base_uri": "https://localhost:8080/"
        },
        "id": "krllJIAoB7cy",
        "outputId": "6cb4bf04-ce80-4dec-ca02-4545abf8979c"
      },
      "execution_count": 24,
      "outputs": [
        {
          "output_type": "stream",
          "name": "stdout",
          "text": [
            "HELLO,\t rohith\t good morning\n"
          ]
        }
      ]
    },
    {
      "cell_type": "code",
      "source": [
        "# default\n",
        "def A(a,b=1,c=2):\n",
        "  return a+b+c\n",
        "  "
      ],
      "metadata": {
        "id": "iPBPQ7fhDxSJ"
      },
      "execution_count": null,
      "outputs": []
    },
    {
      "cell_type": "code",
      "source": [
        "# control statements\n",
        "#break\n",
        "for q in \"python\":\n",
        "  if q==\"h\":\n",
        "    break\n",
        "  print(\"current letter\",q)\n",
        "#continue\n",
        "for q in \"python\":\n",
        "  if q==\"h\":\n",
        "    continue\n",
        "  print(\"current letter\",q)\n",
        "#pass\n",
        "for q in \"python\":\n",
        "  if q==\"h\":\n",
        "    pass\n",
        "    print(\"this is a pass block\")\n",
        "  print(\"current letter\",q)"
      ],
      "metadata": {
        "colab": {
          "base_uri": "https://localhost:8080/"
        },
        "id": "-9Um73QQAhU8",
        "outputId": "3a894e54-1eb7-4776-8068-ea0e0d2835de"
      },
      "execution_count": 19,
      "outputs": [
        {
          "output_type": "stream",
          "name": "stdout",
          "text": [
            "current letter p\n",
            "current letter y\n",
            "current letter t\n",
            "current letter p\n",
            "current letter y\n",
            "current letter t\n",
            "current letter o\n",
            "current letter n\n",
            "current letter p\n",
            "current letter y\n",
            "current letter t\n",
            "this is a pass block\n",
            "current letter h\n",
            "current letter o\n",
            "current letter n\n"
          ]
        }
      ]
    },
    {
      "cell_type": "code",
      "source": [
        "#keyword\n",
        "def A(a,b=1,c=2):\n",
        "  return a+b+c\n",
        "  print(A(a=2,b=3))\n",
        "  print(A(c=3,a=1,b=2))"
      ],
      "metadata": {
        "id": "mO1wKl7aEJDD"
      },
      "execution_count": 25,
      "outputs": []
    },
    {
      "cell_type": "code",
      "source": [
        "#arbitary keywords\n",
        "def key_args(**kwargs):\n",
        "  return kwargs\n",
        "\n",
        "myd=key_args(Apples=30,Bananas=69,Cherries=50)\n",
        "print(myd['Apples'])\n",
        "print(myd)"
      ],
      "metadata": {
        "colab": {
          "base_uri": "https://localhost:8080/"
        },
        "id": "cQVqgK_vEiDG",
        "outputId": "6500eb34-d888-4dcd-d6ca-d1a81cb6273a"
      },
      "execution_count": 26,
      "outputs": [
        {
          "output_type": "stream",
          "name": "stdout",
          "text": [
            "30\n",
            "{'Apples': 30, 'Bananas': 69, 'Cherries': 50}\n"
          ]
        }
      ]
    },
    {
      "cell_type": "code",
      "source": [
        "#higher order functions\n",
        "def shout(text):\n",
        "  return text.upper()\n",
        "def whisper(text):\n",
        "  return text.lower()\n",
        "def explain(func):\n",
        "  greet=func(\"HI , I am a Higher Order Function\")\n",
        "  print(greet)\n",
        "explain(shout)\n",
        "explain(whisper)"
      ],
      "metadata": {
        "colab": {
          "base_uri": "https://localhost:8080/"
        },
        "id": "lcIqZ3RQF4Ds",
        "outputId": "50ef2e08-27ab-47eb-a269-8aa9e201c9bf"
      },
      "execution_count": 27,
      "outputs": [
        {
          "output_type": "stream",
          "name": "stdout",
          "text": [
            "HI , I AM A HIGHER ORDER FUNCTION\n",
            "hi , i am a higher order function\n"
          ]
        }
      ]
    }
  ]
}