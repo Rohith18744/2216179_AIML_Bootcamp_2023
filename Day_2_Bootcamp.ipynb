{
  "nbformat": 4,
  "nbformat_minor": 0,
  "metadata": {
    "colab": {
      "provenance": [],
      "authorship_tag": "ABX9TyMfsoXs0h/K2eVVGwhql3PH",
      "include_colab_link": true
    },
    "kernelspec": {
      "name": "python3",
      "display_name": "Python 3"
    },
    "language_info": {
      "name": "python"
    }
  },
  "cells": [
    {
      "cell_type": "markdown",
      "metadata": {
        "id": "view-in-github",
        "colab_type": "text"
      },
      "source": [
        "<a href=\"https://colab.research.google.com/github/Rohith18744/2216179_AIML_Bootcamp_2023/blob/main/Day_2_Bootcamp.ipynb\" target=\"_parent\"><img src=\"https://colab.research.google.com/assets/colab-badge.svg\" alt=\"Open In Colab\"/></a>"
      ]
    },
    {
      "cell_type": "code",
      "execution_count": 1,
      "metadata": {
        "colab": {
          "base_uri": "https://localhost:8080/"
        },
        "id": "fah8WQnFwnE9",
        "outputId": "c26b1347-fc5f-4e1c-e7d9-a86e8ac0d89d"
      },
      "outputs": [
        {
          "output_type": "stream",
          "name": "stdout",
          "text": [
            "5\n",
            "1\n",
            "6\n",
            "1.5\n",
            "1\n",
            "9\n",
            "1\n"
          ]
        }
      ],
      "source": [
        "a=3\n",
        "b=2\n",
        "print(a+b)\n",
        "print(a-b)\n",
        "print(a*b)\n",
        "print(a/b)\n",
        "print(a%b)\n",
        "print(a**b)\n",
        "print(a//b)"
      ]
    },
    {
      "cell_type": "code",
      "source": [
        "#comparsion operator\n",
        "\n",
        "a>=b\n",
        "a==b\n",
        "a<=b\n",
        "a<<b\n",
        "a>>b\n",
        "a!=b                                                                                                                                                                                         "
      ],
      "metadata": {
        "colab": {
          "base_uri": "https://localhost:8080/"
        },
        "id": "CP8Zs_b4xS3a",
        "outputId": "63b18735-df40-464b-ce77-a130838403df"
      },
      "execution_count": 2,
      "outputs": [
        {
          "output_type": "execute_result",
          "data": {
            "text/plain": [
              "True"
            ]
          },
          "metadata": {},
          "execution_count": 2
        }
      ]
    },
    {
      "cell_type": "code",
      "source": [
        "#assignment operator\n",
        "a=10\n",
        "b=5\n",
        "c=a+b\n",
        "c-=a "
      ],
      "metadata": {
        "id": "MFKx-jWexzwQ"
      },
      "execution_count": 4,
      "outputs": []
    },
    {
      "cell_type": "code",
      "source": [
        "#logical operator\n",
        "x=True\n",
        "y=False\n",
        "print('x and y is:',x and y)\n",
        "print('x or y is:',x or y)\n",
        "print('x not y is:',not y)"
      ],
      "metadata": {
        "colab": {
          "base_uri": "https://localhost:8080/"
        },
        "id": "dPgCGHTayy5Y",
        "outputId": "9f1f842d-e925-4ebd-9c9f-dd14fcbac831"
      },
      "execution_count": 5,
      "outputs": [
        {
          "output_type": "stream",
          "name": "stdout",
          "text": [
            "x and y is: False\n",
            "x or y is: True\n",
            "x not y is: True\n"
          ]
        }
      ]
    },
    {
      "cell_type": "code",
      "source": [
        "#Bitwise operator\n",
        "a=13\n",
        "b=14\n",
        "print(a&b)\n",
        "print(a|b)\n",
        "print(~a)\n",
        "print(a>>2)\n",
        "print(a<<2)"
      ],
      "metadata": {
        "colab": {
          "base_uri": "https://localhost:8080/"
        },
        "id": "jNCR8wqizUeg",
        "outputId": "9aabb43d-4b1b-4bf0-c412-cc1290f70b74"
      },
      "execution_count": 6,
      "outputs": [
        {
          "output_type": "stream",
          "name": "stdout",
          "text": [
            "12\n",
            "15\n",
            "-14\n",
            "3\n",
            "52\n"
          ]
        }
      ]
    },
    {
      "cell_type": "code",
      "source": [
        "#membership operator\n",
        "x='hello world'\n",
        "print('w' in x)"
      ],
      "metadata": {
        "colab": {
          "base_uri": "https://localhost:8080/"
        },
        "id": "tpqEq5_wzzs2",
        "outputId": "907a0015-6574-4d5d-ccac-e021190120ce"
      },
      "execution_count": 7,
      "outputs": [
        {
          "output_type": "stream",
          "name": "stdout",
          "text": [
            "True\n"
          ]
        }
      ]
    },
    {
      "cell_type": "code",
      "source": [
        "#identity operator\n",
        "x1=5\n",
        "y1=5\n",
        "x2='hello'\n",
        "y2=\"hello\"\n",
        "x3=[1,2,3]\n",
        "y3=[1,2,3]\n",
        "print(x1 is not y1)\n",
        "print(x2 is y2)\n",
        "print(x3 is y3)"
      ],
      "metadata": {
        "colab": {
          "base_uri": "https://localhost:8080/"
        },
        "id": "vGQ47z0vz_mY",
        "outputId": "32ddf7fb-3314-416f-bf0f-bfedca72412b"
      },
      "execution_count": 8,
      "outputs": [
        {
          "output_type": "stream",
          "name": "stdout",
          "text": [
            "False\n",
            "True\n",
            "False\n"
          ]
        }
      ]
    },
    {
      "cell_type": "code",
      "source": [
        "a=int(input(\"enter a number\"))\n",
        "print(a)\n",
        "b=input(\"enter the string\")\n",
        "print(b)"
      ],
      "metadata": {
        "colab": {
          "base_uri": "https://localhost:8080/"
        },
        "id": "LnYCS64b0Xsb",
        "outputId": "322a1094-2249-4f42-a1b6-e8993bbe45fa"
      },
      "execution_count": 10,
      "outputs": [
        {
          "output_type": "stream",
          "name": "stdout",
          "text": [
            "enter a number5\n",
            "5\n",
            "enter the stringhello\n",
            "hello\n"
          ]
        }
      ]
    },
    {
      "cell_type": "code",
      "source": [
        "#string\n",
        "str=\"rohith\"\n",
        "#indexing\n",
        "print(str[0])\n",
        "print(str[-1])\n",
        "print(str[0:5])\n",
        "print(str[0:5:2])\n",
        "#reverse a string\n",
        "print(str[::-1])\n",
        "#string methods\n",
        "my_str=\"I am learning python\"\n",
        "print(my_str.upper())\n",
        "print(my_str.lower())\n",
        "print(my_str.swapcase())\n",
        "print(my_str.lstrip())\n",
        "#string operations\n",
        "str1=\"hello\"\n",
        "str2=\"world\"\n",
        "print(str1+str2)\n",
        "print(str1+str1)"
      ],
      "metadata": {
        "colab": {
          "base_uri": "https://localhost:8080/"
        },
        "id": "cwS6Xt_Y00hX",
        "outputId": "32025115-1453-45b7-98a9-9b5408c546d5"
      },
      "execution_count": 11,
      "outputs": [
        {
          "output_type": "stream",
          "name": "stdout",
          "text": [
            "r\n",
            "h\n",
            "rohit\n",
            "rht\n",
            "htihor\n",
            "I AM LEARNING PYTHON\n",
            "i am learning python\n",
            "i AM LEARNING PYTHON\n",
            "I am learning python\n",
            "helloworld\n",
            "hellohello\n"
          ]
        }
      ]
    },
    {
      "cell_type": "code",
      "source": [
        "#string formats\n",
        "name=\"rohith\"\n",
        "language=\"python\"\n",
        "year=2023\n",
        "print(name,\"is teaching\",language,\"programming in\",year)\n",
        "#format\n",
        "print(\"{} is teaching {} programming in {}\".format(name,language,year))\n",
        "#placeholder\n",
        "print(\"%s is teaching %s programming in %d\"%(name,language,year))\n",
        "#rawstring 'f'\n",
        "print(f\"{name} is teaching {language} programming in {year}\")"
      ],
      "metadata": {
        "colab": {
          "base_uri": "https://localhost:8080/"
        },
        "id": "Vlw0xsV62H7w",
        "outputId": "d823d330-492b-4bd2-da7e-c93ec3d8f91f"
      },
      "execution_count": 12,
      "outputs": [
        {
          "output_type": "stream",
          "name": "stdout",
          "text": [
            "rohith is teaching python programming in 2023\n",
            "rohith is teaching python programming in 2023\n",
            "rohith is teaching python programming in 2023\n",
            "rohith is teaching python programming in 2023\n"
          ]
        }
      ]
    },
    {
      "cell_type": "code",
      "source": [
        "#Lists\n",
        "my_list=[1,2,3,4]\n",
        "my_list1=[1,'hello','3.0']\n",
        "my_list2=['apple','banana','cherry']\n",
        "\n",
        "#indexing\n",
        "print(my_list[2])\n",
        "print(my_list1[-1])\n",
        "print(my_list[:3])\n",
        "#nested list\n",
        "N_list=[\"dragonfruit\",\"hi\",my_list,my_list[1]]\n",
        "#list methods\n",
        "my_list.append(5)\n",
        "print(my_list)\n",
        "l1=[3,6,9,12,43,4,5,6,9]\n",
        "print(l1.count(4))\n",
        "print(len(l1))\n",
        "print(l1[::-1])\n",
        "l1.reverse()\n",
        "print(l1)\n",
        "l1.sort()\n",
        "print(l1)"
      ],
      "metadata": {
        "colab": {
          "base_uri": "https://localhost:8080/"
        },
        "id": "t6bA2qIF3fuN",
        "outputId": "5b96329d-98c3-44a4-9d59-ff04afe66019"
      },
      "execution_count": 13,
      "outputs": [
        {
          "output_type": "stream",
          "name": "stdout",
          "text": [
            "3\n",
            "3.0\n",
            "[1, 2, 3]\n",
            "[1, 2, 3, 4, 5]\n",
            "1\n",
            "9\n",
            "[9, 6, 5, 4, 43, 12, 9, 6, 3]\n",
            "[9, 6, 5, 4, 43, 12, 9, 6, 3]\n",
            "[3, 4, 5, 6, 6, 9, 9, 12, 43]\n"
          ]
        }
      ]
    }
  ]
}