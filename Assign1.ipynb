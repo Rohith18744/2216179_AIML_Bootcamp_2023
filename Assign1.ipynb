{
  "cells": [
    {
      "cell_type": "markdown",
      "metadata": {
        "id": "view-in-github",
        "colab_type": "text"
      },
      "source": [
        "<a href=\"https://colab.research.google.com/github/Rohith18744/2216179_AIML_Bootcamp_2023/blob/main/Assign1.ipynb\" target=\"_parent\"><img src=\"https://colab.research.google.com/assets/colab-badge.svg\" alt=\"Open In Colab\"/></a>"
      ]
    },
    {
      "cell_type": "code",
      "execution_count": 5,
      "metadata": {
        "colab": {
          "base_uri": "https://localhost:8080/"
        },
        "id": "5YcOvAe0r2q3",
        "outputId": "48e67673-0ade-4acb-80d1-7c98d0c40765"
      },
      "outputs": [
        {
          "output_type": "stream",
          "name": "stdout",
          "text": [
            "T\n",
            "This is the world of pytho\n",
            "T\n",
            "\n",
            "nohtyp fo dlrow eht si sihT\n",
            "I AM DOING PYTHON PROGRAMMING\n",
            "i am doing python programming\n",
            "i AM DOING PYTHON PROGRAMMING\n",
            "I am doing python programming\n",
            "helloglobe\n",
            "hellohello\n"
          ]
        }
      ],
      "source": [
        "#1)\n",
        "#string\n",
        "str=\"This is the world of python\"\n",
        "#indexing\n",
        "print(str[0])\n",
        "print(str[:-1])\n",
        "print(str[0:5:7])\n",
        "print(str[0:5:-2])\n",
        "#reverse a string\n",
        "print(str[::-1])\n",
        "#string methods\n",
        "my_str=\"I am doing python programming\"\n",
        "print(my_str.upper())\n",
        "print(my_str.lower())\n",
        "print(my_str.swapcase())\n",
        "print(my_str.lstrip())\n",
        "#string operations\n",
        "str1=\"hello\"\n",
        "str2=\"globe\"\n",
        "print(str1+str2)\n",
        "print(str1+str1)\n"
      ]
    },
    {
      "cell_type": "code",
      "source": [
        "#2)\n",
        "#Lists\n",
        "list1=[9,5,3,7]\n",
        "list2=[1,'hi',9,8,'to']\n",
        "list3=['benz','audi','jaguar','range rover']\n",
        "\n",
        "#indexing\n",
        "print(list1[2:3])\n",
        "print(list2[-1])\n",
        "print(list3[:6])\n",
        "#nested list\n",
        "N_list=[\"america\",\"bye\",list1,list2[3]]\n",
        "#list methods\n",
        "list1.append(5)\n",
        "print(list1)\n",
        "l3=[3,6,9,5,6,9]\n",
        "print(l3.count(9))\n",
        "print(len(l3))\n",
        "print(l3[::-1])\n",
        "l3.reverse()\n",
        "print(l3)\n",
        "l3.sort()\n",
        "print(l3)"
      ],
      "metadata": {
        "colab": {
          "base_uri": "https://localhost:8080/"
        },
        "id": "9eXhhCTFxuLD",
        "outputId": "ce27243a-bb09-4ee0-fbb0-5fa596d8e548"
      },
      "execution_count": 6,
      "outputs": [
        {
          "output_type": "stream",
          "name": "stdout",
          "text": [
            "[3]\n",
            "to\n",
            "['benz', 'audi', 'jaguar', 'range rover']\n",
            "[9, 5, 3, 7, 5]\n",
            "2\n",
            "6\n",
            "[9, 6, 5, 9, 6, 3]\n",
            "[9, 6, 5, 9, 6, 3]\n",
            "[3, 5, 6, 6, 9, 9]\n"
          ]
        }
      ]
    },
    {
      "cell_type": "code",
      "source": [
        "#3)\n",
        "#Tuples\n",
        "tup_1=(1,2,3,4,5,6,7,8)\n",
        "tup_2=(\"three\",78.4,5,8,6)\n",
        "N_tup=(\"hai\",tup_1,tup_2)\n",
        "print(N_tup[-1][-1])\n",
        "#tuple methods\n",
        "print(tup_1.count(1))\n",
        "print(tup_1.index(2))\n",
        "print(max(tup_1))\n",
        "print(min(tup_1))\n",
        "print(tup_1[1:6])\n",
        "print(tup_2[:-3])\n",
        "print(tup_1[7:3])\n",
        "print(tup_2[:7])"
      ],
      "metadata": {
        "colab": {
          "base_uri": "https://localhost:8080/"
        },
        "id": "-HUjg6X1zMts",
        "outputId": "e0952937-f2d4-46d0-df50-9c162f30b5c0"
      },
      "execution_count": 12,
      "outputs": [
        {
          "output_type": "stream",
          "name": "stdout",
          "text": [
            "6\n",
            "1\n",
            "1\n",
            "8\n",
            "1\n",
            "(2, 3, 4, 5, 6)\n",
            "('three', 78.4)\n",
            "()\n",
            "('three', 78.4, 5, 8, 6)\n"
          ]
        }
      ]
    },
    {
      "cell_type": "code",
      "source": [
        "#4)\n",
        "#dictionaries\n",
        "my_dict={'name':'microsoft',101:'english'}\n",
        "print(my_dict)\n",
        "country_capital = {\"India\": \"New Delhi\", \"England\": \"London\"}\n",
        "print(\"Initial Dictionary: \",country_capital)\n",
        "\n",
        "country_capital[\"China\"] = \"Bejing\"\n",
        "\n",
        "print(\"Updated Dictionary: \",country_capital)\n",
        "student_id = {121: \"steve\", 221: \"mark\", 183: \"Elon\"}\n",
        "print(\"Initial Dictionary: \", student_id)\n",
        "del student_id[221]\n",
        "print(\"Updated Dictionary \", student_id)"
      ],
      "metadata": {
        "colab": {
          "base_uri": "https://localhost:8080/"
        },
        "id": "z8dhnvo20oIi",
        "outputId": "b210dec2-2a7c-4806-bc58-5e2ec4a53b0a"
      },
      "execution_count": 13,
      "outputs": [
        {
          "output_type": "stream",
          "name": "stdout",
          "text": [
            "{'name': 'microsoft', 101: 'english'}\n",
            "Initial Dictionary:  {'India': 'New Delhi', 'England': 'London'}\n",
            "Updated Dictionary:  {'India': 'New Delhi', 'England': 'London', 'China': 'Bejing'}\n",
            "Initial Dictionary:  {121: 'steve', 221: 'mark', 183: 'Elon'}\n",
            "Updated Dictionary  {121: 'steve', 183: 'Elon'}\n"
          ]
        }
      ]
    },
    {
      "cell_type": "code",
      "source": [
        "#5)\n",
        "#sets\n",
        "s1=(-1,7,0,6)\n",
        "my_set1=(\"hi\",1.1,5)\n",
        "l1=[1,2,3,4]\n",
        "print(l1)\n",
        "\n",
        "#set operation\n",
        "a={1,2,4}\n",
        "b={4,5,7}\n",
        "print(a|b)\n",
        "print(a.union(b))\n",
        "print(b.union(a))\n",
        "\n",
        "print(a&b)\n",
        "print(a.intersection(b))\n",
        "print(b.intersection(a))\n",
        "\n",
        "print(a-b)\n",
        "print(a.difference(b))\n",
        "print(b.difference(a))"
      ],
      "metadata": {
        "colab": {
          "base_uri": "https://localhost:8080/"
        },
        "id": "3dgd33ek122q",
        "outputId": "79ba87b0-2d2e-4703-a6c0-45fcfc40eaa5"
      },
      "execution_count": 14,
      "outputs": [
        {
          "output_type": "stream",
          "name": "stdout",
          "text": [
            "[1, 2, 3, 4]\n",
            "{1, 2, 4, 5, 7}\n",
            "{1, 2, 4, 5, 7}\n",
            "{1, 2, 4, 5, 7}\n",
            "{4}\n",
            "{4}\n",
            "{4}\n",
            "{1, 2}\n",
            "{1, 2}\n",
            "{5, 7}\n"
          ]
        }
      ]
    },
    {
      "cell_type": "code",
      "source": [
        "#6)\n",
        "x=71\n",
        "print(bin(x))\n",
        "print(hex(x))\n",
        "print(oct(x))"
      ],
      "metadata": {
        "colab": {
          "base_uri": "https://localhost:8080/"
        },
        "id": "RsomZeOy2aRh",
        "outputId": "e4b268de-3d28-44df-db0f-b738c1f92029"
      },
      "execution_count": 15,
      "outputs": [
        {
          "output_type": "stream",
          "name": "stdout",
          "text": [
            "0b1000111\n",
            "0x47\n",
            "0o107\n"
          ]
        }
      ]
    },
    {
      "cell_type": "code",
      "source": [
        "#7)\n",
        "#Arithmetic operator\n",
        "a=8\n",
        "b=4\n",
        "print(a+b)\n",
        "print(a-b)\n",
        "print(a*b)\n",
        "print(a/b)\n",
        "print(a%b)\n",
        "print(a**b)\n",
        "print(a//b)\n"
      ],
      "metadata": {
        "colab": {
          "base_uri": "https://localhost:8080/"
        },
        "id": "N8OWXYIB2j1t",
        "outputId": "59e60119-58c6-46bc-d761-bcd43917f0c5"
      },
      "execution_count": 16,
      "outputs": [
        {
          "output_type": "stream",
          "name": "stdout",
          "text": [
            "12\n",
            "4\n",
            "32\n",
            "2.0\n",
            "0\n",
            "4096\n",
            "2\n"
          ]
        }
      ]
    },
    {
      "cell_type": "code",
      "source": [
        "#8)\n",
        "#assignment operator\n",
        "a=7\n",
        "b=8\n",
        "c=a+b\n",
        "print(c)\n",
        "c-=a\n",
        "print(c)\n",
        "a += b\n",
        "print(a)\n",
        "a*=b\n",
        "print(a)\n",
        "a/=b\n",
        "print(a)\n",
        "a%=b\n",
        "print(a)\n",
        "a//=b\n",
        "print(a)"
      ],
      "metadata": {
        "colab": {
          "base_uri": "https://localhost:8080/"
        },
        "id": "O5Db6ax6259l",
        "outputId": "8635d653-aec0-4f4d-d734-e6ba8ff16b76"
      },
      "execution_count": 17,
      "outputs": [
        {
          "output_type": "stream",
          "name": "stdout",
          "text": [
            "15\n",
            "8\n",
            "15\n",
            "120\n",
            "15.0\n",
            "7.0\n",
            "0.0\n"
          ]
        }
      ]
    },
    {
      "cell_type": "code",
      "source": [
        "#9)\n",
        "#comparsion operateor\n",
        "a=6\n",
        "b=7\n",
        "a>=b\n",
        "print(a)\n",
        "a==b\n",
        "print(a)\n",
        "a<=b\n",
        "print(a)\n",
        "a<<b\n",
        "print(a)\n",
        "a>>b\n",
        "print(a)\n",
        "a!=b\n",
        "print(a)"
      ],
      "metadata": {
        "colab": {
          "base_uri": "https://localhost:8080/"
        },
        "id": "fjWr60D93BtW",
        "outputId": "03378ed3-5442-447d-d209-3bf3207d233d"
      },
      "execution_count": 18,
      "outputs": [
        {
          "output_type": "stream",
          "name": "stdout",
          "text": [
            "6\n",
            "6\n",
            "6\n",
            "6\n",
            "6\n",
            "6\n"
          ]
        }
      ]
    },
    {
      "cell_type": "code",
      "source": [
        "#10)\n",
        "#logical operator\n",
        "x=True\n",
        "y=False\n",
        "print('x and y is:',x and y)\n",
        "print('x or y is:',x or y)\n",
        "print('x not y is:',not y)"
      ],
      "metadata": {
        "colab": {
          "base_uri": "https://localhost:8080/"
        },
        "id": "bhOyH7To3LnV",
        "outputId": "edfbbdf1-6eef-4f7c-f04f-1940a83d9bab"
      },
      "execution_count": 19,
      "outputs": [
        {
          "output_type": "stream",
          "name": "stdout",
          "text": [
            "x and y is: False\n",
            "x or y is: True\n",
            "x not y is: True\n"
          ]
        }
      ]
    },
    {
      "cell_type": "code",
      "source": [
        "#11)\n",
        "#Bitwise operator\n",
        "a=18\n",
        "b=56\n",
        "print(a|b)\n",
        "print(a&b)\n",
        "print(~a)\n",
        "print(a^b)\n",
        "print(a>>2)\n",
        "print(a<<2)"
      ],
      "metadata": {
        "colab": {
          "base_uri": "https://localhost:8080/"
        },
        "id": "U88XBZ7N3Vdg",
        "outputId": "0ad72175-8d77-47bd-e30d-fda35544a6ff"
      },
      "execution_count": 20,
      "outputs": [
        {
          "output_type": "stream",
          "name": "stdout",
          "text": [
            "58\n",
            "16\n",
            "-19\n",
            "42\n",
            "4\n",
            "72\n"
          ]
        }
      ]
    },
    {
      "cell_type": "code",
      "source": [
        "#12)\n",
        "#membership operator\n",
        "x='who are you '\n",
        "print('w' in x)\n",
        "a = 12\n",
        "b = 17\n",
        "list = [1, 2, 3, 4, 5 ];\n",
        "\n",
        "if ( a in list ):\n",
        "   print (\"Line 1\")\n",
        "else:\n",
        "   print (\"Line 1!\")\n",
        "\n",
        "if ( b not in list ):\n",
        "   print (\"Line 2\")\n",
        "else:\n",
        "   print (\"Line 2!\")\n",
        "\n",
        "a = 2\n",
        "if ( a in list ):\n",
        "   print (\"Line 3\")\n",
        "else:\n",
        "   print (\"Line 3 !\")"
      ],
      "metadata": {
        "colab": {
          "base_uri": "https://localhost:8080/"
        },
        "id": "hZyuSyYu3yaU",
        "outputId": "bbceef5a-1bc8-4916-efdf-bc082ee61185"
      },
      "execution_count": 21,
      "outputs": [
        {
          "output_type": "stream",
          "name": "stdout",
          "text": [
            "True\n",
            "Line 1!\n",
            "Line 2\n",
            "Line 3\n"
          ]
        }
      ]
    },
    {
      "cell_type": "code",
      "source": [
        "#13)\n",
        "#identity operator\n",
        "x1=5\n",
        "y1=6\n",
        "x2='hai'\n",
        "y2=\"bye\"\n",
        "x3=[5,6,7]\n",
        "y3=[1,2]\n",
        "print(x1 is not y1)\n",
        "print(x2 is  y2)\n",
        "print(x3 is y3)"
      ],
      "metadata": {
        "colab": {
          "base_uri": "https://localhost:8080/"
        },
        "id": "haHO6CP84K7z",
        "outputId": "7a116807-48f4-4aa4-c890-1a719166110e"
      },
      "execution_count": 22,
      "outputs": [
        {
          "output_type": "stream",
          "name": "stdout",
          "text": [
            "True\n",
            "False\n",
            "False\n"
          ]
        }
      ]
    },
    {
      "cell_type": "code",
      "source": [
        "#14)negative indexing for list and applying silcing\n",
        "list1= [7,8,5,3,5,2,9,7,5,8,1,4,3]\n",
        "print(list1[::-1])\n",
        "print(list1[1:9])\n",
        "print(list1[3:9:2])\n",
        "print(list1[-1:-3:-5])"
      ],
      "metadata": {
        "colab": {
          "base_uri": "https://localhost:8080/"
        },
        "id": "Hhjk-N7b4ZeD",
        "outputId": "3aaa1204-f53d-426a-da98-7b386c587a00"
      },
      "execution_count": 25,
      "outputs": [
        {
          "output_type": "stream",
          "name": "stdout",
          "text": [
            "[3, 4, 1, 8, 5, 7, 9, 2, 5, 3, 5, 8, 7]\n",
            "[8, 5, 3, 5, 2, 9, 7, 5]\n",
            "[3, 2, 7]\n",
            "[3]\n"
          ]
        }
      ]
    },
    {
      "cell_type": "code",
      "source": [
        "#15)\n",
        "print('A series of character designated as one object known as a string'[::-1][4::3])\n",
        "print('----------')\n",
        "print('Welcome to python traing program'[3:10][::-1])"
      ],
      "metadata": {
        "colab": {
          "base_uri": "https://localhost:8080/"
        },
        "id": "aSpSpyma41Ka",
        "outputId": "b3e53427-0443-4fdf-a6c0-0ee92f963140"
      },
      "execution_count": 26,
      "outputs": [
        {
          "output_type": "stream",
          "name": "stdout",
          "text": [
            "taawkcbe  tgerca  is\n",
            "----------\n",
            "ot emoc\n"
          ]
        }
      ]
    },
    {
      "cell_type": "code",
      "source": [
        "#16)\n",
        "P_phrase=\"was it a car or a cat I saw\"\n",
        "print(P_phrase[::-1].upper())"
      ],
      "metadata": {
        "colab": {
          "base_uri": "https://localhost:8080/"
        },
        "id": "szVI4scC46fZ",
        "outputId": "a7b2675d-0f0e-459b-a6a3-0b1f6432f221"
      },
      "execution_count": 27,
      "outputs": [
        {
          "output_type": "stream",
          "name": "stdout",
          "text": [
            "WAS I TAC A RO RAC A TI SAW\n"
          ]
        }
      ]
    },
    {
      "cell_type": "code",
      "source": [
        "#17)\n",
        "x=int(input())\n",
        "y=2*x\n",
        "print('Z'*x+'O'*y)"
      ],
      "metadata": {
        "colab": {
          "base_uri": "https://localhost:8080/"
        },
        "id": "lVvZZeAO5O_c",
        "outputId": "e0a108f9-e726-4007-ee41-d44f8767d56c"
      },
      "execution_count": 28,
      "outputs": [
        {
          "output_type": "stream",
          "name": "stdout",
          "text": [
            "5\n",
            "ZZZZZOOOOOOOOOO\n"
          ]
        }
      ]
    }
  ],
  "metadata": {
    "colab": {
      "provenance": [],
      "authorship_tag": "ABX9TyOjGrGgVErsZ91ZyYY4Hkbf",
      "include_colab_link": true
    },
    "kernelspec": {
      "display_name": "Python 3",
      "name": "python3"
    },
    "language_info": {
      "name": "python"
    }
  },
  "nbformat": 4,
  "nbformat_minor": 0
}