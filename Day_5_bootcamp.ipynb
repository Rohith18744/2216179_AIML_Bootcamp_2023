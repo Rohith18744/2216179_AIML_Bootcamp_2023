{
  "nbformat": 4,
  "nbformat_minor": 0,
  "metadata": {
    "colab": {
      "provenance": [],
      "authorship_tag": "ABX9TyP6DEZp5BLhpXHAkrdbLXDw",
      "include_colab_link": true
    },
    "kernelspec": {
      "name": "python3",
      "display_name": "Python 3"
    },
    "language_info": {
      "name": "python"
    }
  },
  "cells": [
    {
      "cell_type": "markdown",
      "metadata": {
        "id": "view-in-github",
        "colab_type": "text"
      },
      "source": [
        "<a href=\"https://colab.research.google.com/github/Rohith18744/2216179_AIML_Bootcamp_2023/blob/main/Day_5_bootcamp.ipynb\" target=\"_parent\"><img src=\"https://colab.research.google.com/assets/colab-badge.svg\" alt=\"Open In Colab\"/></a>"
      ]
    },
    {
      "cell_type": "code",
      "execution_count": 1,
      "metadata": {
        "colab": {
          "base_uri": "https://localhost:8080/"
        },
        "id": "qJdZpV4n902q",
        "outputId": "3c0c7849-db22-4a3a-aaef-ea2dfc7b6b88"
      },
      "outputs": [
        {
          "output_type": "stream",
          "name": "stdout",
          "text": [
            "5\n",
            "4\n"
          ]
        }
      ],
      "source": [
        "#lambda fuction\n",
        "def inc(x):\n",
        "  x=x+1\n",
        "  return x\n",
        "     #(or)\n",
        "print((lambda x:x+1)(4))\n",
        "\n",
        "print((lambda x,y:x**y)(2,2))"
      ]
    },
    {
      "cell_type": "code",
      "source": [
        "li=[1,2,3,4]\n",
        "def fun(num):\n",
        "  return num+2\n",
        "res_list=list(map(inc,li))\n",
        "print(res_list)\n",
        "#mapping\n",
        "print(list(map(lambda x:x+2,li)))\n",
        "\n",
        "li=['apples','bananas','cherries']\n",
        "print(list(map(lambda x:x.capitalize(),li)))\n",
        "\n",
        "def myfunc(n):\n",
        "  return lambda a : a * n\n",
        "mydoubler = myfunc(2)\n",
        "print(mydoubler(11))\n",
        "x=lambda a,b:a*b \n",
        "print(x(5,6))\n",
        "\n",
        "x=lambda a,b,c:a+b+c \n",
        "print(x(5,6,2))\n",
        "\n",
        "def eor(num):\n",
        "  if num%2==0:\n",
        "    return \"the number {} is even\".format(num)\n",
        "  else:\n",
        "    return \"the number {} is odd\".format(num)\n",
        "eor(20)\n",
        "\n",
        "#l2=[1,2,3,4,5,6,7,8,9,10]\n",
        "#list(map(eor,12))"
      ],
      "metadata": {
        "colab": {
          "base_uri": "https://localhost:8080/",
          "height": 140
        },
        "id": "9Z_NmHIH-ATN",
        "outputId": "cc585224-40f2-4b8c-e845-a17659b05497"
      },
      "execution_count": 2,
      "outputs": [
        {
          "output_type": "stream",
          "name": "stdout",
          "text": [
            "[2, 3, 4, 5]\n",
            "[3, 4, 5, 6]\n",
            "['Apples', 'Bananas', 'Cherries']\n",
            "22\n",
            "30\n",
            "13\n"
          ]
        },
        {
          "output_type": "execute_result",
          "data": {
            "text/plain": [
              "'the number 20 is even'"
            ],
            "application/vnd.google.colaboratory.intrinsic+json": {
              "type": "string"
            }
          },
          "metadata": {},
          "execution_count": 2
        }
      ]
    },
    {
      "cell_type": "code",
      "source": [
        "#filter\n",
        "def odd_num(n):\n",
        "  if n%2!=0:\n",
        "    return n\n",
        "my1=[3,4,9,12,343,15]\n",
        "print(list(filter(odd_num,my1)))\n",
        "\n",
        "my1=[3,4,9,12,343,15]\n",
        "print(list(filter(lambda x:x%2!=0,my1)))"
      ],
      "metadata": {
        "colab": {
          "base_uri": "https://localhost:8080/"
        },
        "id": "-3JlRdzV-XJK",
        "outputId": "e0fa6c91-63e3-4d9b-a44c-6ddf38704213"
      },
      "execution_count": 3,
      "outputs": [
        {
          "output_type": "stream",
          "name": "stdout",
          "text": [
            "[3, 9, 343, 15]\n",
            "[3, 9, 343, 15]\n"
          ]
        }
      ]
    },
    {
      "cell_type": "code",
      "source": [
        "#object oriented program(oop) principles\n",
        "\n",
        "#class and object\n",
        "class c:\n",
        "  def add(self,a,b):\n",
        "    return a+b\n",
        "  def sub(self,a,b):\n",
        "    return a-b\n",
        " \n",
        "o=c()\n",
        "print(\"addition of two numbers is\",o.add(5,5))\n",
        "print(\"subtraction of two number is\",o.sub(10,5))"
      ],
      "metadata": {
        "colab": {
          "base_uri": "https://localhost:8080/"
        },
        "id": "NcAVHfuQ-hNQ",
        "outputId": "ce29c54a-5286-4166-c9cc-f2efed20eeaf"
      },
      "execution_count": 4,
      "outputs": [
        {
          "output_type": "stream",
          "name": "stdout",
          "text": [
            "addition of two numbers is 10\n",
            "subtraction of two number is 5\n"
          ]
        }
      ]
    },
    {
      "cell_type": "code",
      "source": [
        "#inheritance\n",
        "#simple\n",
        "class Animal:\n",
        "  def animal_sounds(self):\n",
        "    return \"makes sound\"\n",
        "class cat(Animal):\n",
        "  def cat_sound(self):\n",
        "    return self.animal_sounds()+\" MEOW\"\n",
        "  def __str__(self):\n",
        "    return \"cat\"\n",
        "co=cat()\n",
        "print(co,co.cat_sound())"
      ],
      "metadata": {
        "colab": {
          "base_uri": "https://localhost:8080/"
        },
        "id": "1n8U-gHs-ptW",
        "outputId": "3df72bfb-e7c2-4953-d064-ed68b7b4b760"
      },
      "execution_count": 5,
      "outputs": [
        {
          "output_type": "stream",
          "name": "stdout",
          "text": [
            "cat makes sound MEOW\n"
          ]
        }
      ]
    },
    {
      "cell_type": "code",
      "source": [
        "#hierarchial inheritance\n",
        "class Animal:\n",
        "  def animal_sounds(self):\n",
        "    return \"makes sound\"\n",
        "class cat(Animal):\n",
        "  def cat_sound(self):\n",
        "    return self.animal_sounds()+\" MEOW\"\n",
        "  def __str__(self):\n",
        "    return \"cat\"\n",
        "class Animal:\n",
        "  def animal_sounds(self):\n",
        "    return \"makes sound\"\n",
        "class Dog(Animal):\n",
        "  def dog_sound(self):\n",
        "    return self.animal_sounds()+\" BOW\"\n",
        "  def __str__(self):\n",
        "    return \"Dog\"\n",
        "co=cat()\n",
        "do=Dog()\n",
        "print(co,co.cat_sound())\n",
        "print(do,do.dog_sound())"
      ],
      "metadata": {
        "colab": {
          "base_uri": "https://localhost:8080/"
        },
        "id": "cDqrWfjj-xjg",
        "outputId": "7241fe32-c680-4383-b70a-8a333f2d4bf4"
      },
      "execution_count": 6,
      "outputs": [
        {
          "output_type": "stream",
          "name": "stdout",
          "text": [
            "cat makes sound MEOW\n",
            "Dog makes sound BOW\n"
          ]
        }
      ]
    },
    {
      "cell_type": "code",
      "source": [
        "#multilevel inheritance\n",
        "class Animal:\n",
        "  def animal_sounds(self):\n",
        "    return \"makes sound\"\n",
        "class cat(Animal):\n",
        "  def cat_sound(self):\n",
        "    return self.animal_sounds()+\" MEOW\"\n",
        "class catcolor(cat):\n",
        "  def __str__(self):\n",
        "    return \"cat\"\n",
        "  def color(self):\n",
        "    return \"color is black\"\n",
        "cc=catcolor()\n",
        "print(cc,cc.cat_sound())\n",
        "print(cc,cc.color())"
      ],
      "metadata": {
        "colab": {
          "base_uri": "https://localhost:8080/"
        },
        "id": "op7PL75a-7SQ",
        "outputId": "5647a916-31d2-4e4a-de1b-b4cf4189a97b"
      },
      "execution_count": 7,
      "outputs": [
        {
          "output_type": "stream",
          "name": "stdout",
          "text": [
            "cat makes sound MEOW\n",
            "cat color is black\n"
          ]
        }
      ]
    },
    {
      "cell_type": "code",
      "source": [
        "class INVALIDVOTERID(Exception):\n",
        " def __str__(self):\n",
        "   return \"age is greater than 18\"\n",
        "age=input(\"Enter age\")\n",
        "try:\n",
        " if age[:4]!=\"18\":\n",
        "   raise classINVALIDVOTERID\n",
        " else:\n",
        "   print(\"verified\")\n",
        "except INVALIDVOTERID as i:\n",
        " print(i)\n",
        "print(\"details checked\")"
      ],
      "metadata": {
        "id": "L5DbYZpS_DJN"
      },
      "execution_count": null,
      "outputs": []
    }
  ]
}